{
 "cells": [
  {
   "cell_type": "code",
   "execution_count": 4,
   "metadata": {},
   "outputs": [
    {
     "data": {
      "text/plain": [
       "<torch._C.Generator at 0x103f68670>"
      ]
     },
     "execution_count": 4,
     "metadata": {},
     "output_type": "execute_result"
    }
   ],
   "source": [
    "%matplotlib inline\n",
    "# import some dependencies\n",
    "import numpy as np\n",
    "import matplotlib.pyplot as plt\n",
    "try:\n",
    "    import seaborn as sns\n",
    "    sns.set()\n",
    "except ImportError:\n",
    "    pass\n",
    "\n",
    "import torch\n",
    "from torch.autograd import Variable\n",
    "\n",
    "import pyro\n",
    "import pyro.infer\n",
    "import pyro.optim\n",
    "import pyro.distributions as dist\n",
    "\n",
    "torch.manual_seed(101)"
   ]
  },
  {
   "cell_type": "code",
   "execution_count": 109,
   "metadata": {},
   "outputs": [],
   "source": [
    "x = [\n",
    "    2,2,4,6,4,5,2,3,1,2,0,4,3,3,3,3,4,2,7,2,4,3,3,3,4,\n",
    "    3,7,5,3,1,7,6,4,6,5,2,4,7,2,2,6,2,4,5,4,5,1,3,2,3,\n",
    "]\n",
    "data = np.array(x)"
   ]
  },
  {
   "cell_type": "code",
   "execution_count": 117,
   "metadata": {},
   "outputs": [
    {
     "name": "stdout",
     "output_type": "stream",
     "text": [
      "0: 1\n",
      "1: 3\n",
      "2: 11\n",
      "3: 12\n",
      "4: 10\n",
      "5: 5\n",
      "6: 4\n",
      "7: 4\n"
     ]
    }
   ],
   "source": [
    "for i in range(0, 8, 1):\n",
    "    print(\"{}: {}\".format(i, x.count(i)))"
   ]
  },
  {
   "cell_type": "code",
   "execution_count": 106,
   "metadata": {},
   "outputs": [
    {
     "data": {
      "text/plain": [
       "(0, 3.56, 7)"
      ]
     },
     "execution_count": 106,
     "metadata": {},
     "output_type": "execute_result"
    }
   ],
   "source": [
    "data.min(), data.mean(), data.max()"
   ]
  },
  {
   "cell_type": "code",
   "execution_count": 123,
   "metadata": {},
   "outputs": [
    {
     "name": "stdout",
     "output_type": "stream",
     "text": [
      "var: 2.9264000000000006\n",
      "std: 1.710672382427448\n"
     ]
    }
   ],
   "source": [
    "print(\"var: {}\".format(data.var()))\n",
    "print(\"std: {}\".format(data.std()))"
   ]
  },
  {
   "cell_type": "code",
   "execution_count": 132,
   "metadata": {},
   "outputs": [
    {
     "data": {
      "text/plain": [
       "Variable containing:\n",
       " 2\n",
       "[torch.FloatTensor of size 1]"
      ]
     },
     "execution_count": 132,
     "metadata": {},
     "output_type": "execute_result"
    }
   ],
   "source": [
    "lam = Variable(torch.Tensor([3.56]))"
   ]
  },
  {
   "cell_type": "code",
   "execution_count": 136,
   "metadata": {},
   "outputs": [
    {
     "data": {
      "text/plain": [
       "Variable containing:\n",
       " 7\n",
       "[torch.FloatTensor of size 1]"
      ]
     },
     "execution_count": 136,
     "metadata": {},
     "output_type": "execute_result"
    }
   ],
   "source": [
    "dist.poisson.sample(lam=lam)"
   ]
  },
  {
   "cell_type": "code",
   "execution_count": 182,
   "metadata": {},
   "outputs": [
    {
     "name": "stdout",
     "output_type": "stream",
     "text": [
      "y 0: 0.028438826341467157\n",
      "y 1: 0.10124220409777875\n",
      "y 2: 0.1802110914842489\n",
      "y 3: 0.21385050463206587\n",
      "y 4: 0.190326960542127\n",
      "y 5: 0.13551267124296018\n",
      "y 6: 0.080404226659841\n",
      "y 7: 0.04089130206204762\n",
      "y 8: 0.018196595767462773\n",
      "y 9: 0.007197781882608546\n",
      "y 10: 0.0025624116536324963\n"
     ]
    }
   ],
   "source": [
    "pdfs = []\n",
    "for i in range(0, 11, 1):\n",
    "    x = Variable(torch.Tensor([i]))\n",
    "    pdf = np.exp(dist.poisson.log_pdf(x, lam).data[0])\n",
    "    pdfs.append(pdf)\n",
    "    print(\"y {}: {}\".format(i, pdf))"
   ]
  },
  {
   "cell_type": "code",
   "execution_count": 184,
   "metadata": {},
   "outputs": [
    {
     "data": {
      "text/plain": [
       "0.9988345763662403"
      ]
     },
     "execution_count": 184,
     "metadata": {},
     "output_type": "execute_result"
    }
   ],
   "source": [
    "sum(pdfs)"
   ]
  },
  {
   "cell_type": "code",
   "execution_count": 185,
   "metadata": {},
   "outputs": [
    {
     "data": {
      "text/plain": [
       "[<matplotlib.lines.Line2D at 0x1155cd128>]"
      ]
     },
     "execution_count": 185,
     "metadata": {},
     "output_type": "execute_result"
    },
    {
     "data": {
      "image/png": "[encoded data removed]",
      "text/plain": [
       "<matplotlib.figure.Figure at 0x1155cdc50>"
      ]
     },
     "metadata": {},
     "output_type": "display_data"
    }
   ],
   "source": [
    "ax = sns.distplot(data, bins=8)\n",
    "ax.set_xlim(-0.5, 9.5)\n",
    "plt.plot(pdfs)"
   ]
  },
  {
   "cell_type": "code",
   "execution_count": 208,
   "metadata": {},
   "outputs": [
    {
     "name": "stdout",
     "output_type": "stream",
     "text": [
      "lam 2.0: log_pdfs -121.88119220733643\n",
      "lam 2.4: log_pdfs -109.42794859409332\n",
      "lam 2.8: log_pdfs -101.98912644386292\n",
      "lam 3.2: log_pdfs -98.22055196762085\n",
      "lam 3.6: log_pdfs -97.25515747070312\n",
      "lam 4.0: log_pdfs -98.5009937286377\n",
      "lam 4.4: log_pdfs -101.53578090667725\n",
      "lam 4.8: log_pdfs -106.04776763916016\n",
      "lam 5.2: log_pdfs -111.80014872550964\n"
     ]
    }
   ],
   "source": [
    "for lam in [2.0, 2.4, 2.8, 3.2, 3.6, 4.0, 4.4, 4.8, 5.2]:\n",
    "    log_pdfs = []\n",
    "    for i in data:\n",
    "        lamd = Variable(torch.Tensor([lam]))\n",
    "        x = Variable(torch.Tensor([float(i)]))\n",
    "        log_pdf = dist.poisson.log_pdf(x, lamd).data[0]\n",
    "        log_pdfs.append(log_pdf)\n",
    "    print(\"lam {}: log_pdfs {}\".format(lam, sum(log_pdfs)))"
   ]
  },
  {
   "cell_type": "code",
   "execution_count": 190,
   "metadata": {},
   "outputs": [
    {
     "data": {
      "text/plain": [
       "-121.88119220733643"
      ]
     },
     "execution_count": 190,
     "metadata": {},
     "output_type": "execute_result"
    }
   ],
   "source": [
    "sum(log_pdfs)"
   ]
  },
  {
   "cell_type": "code",
   "execution_count": null,
   "metadata": {},
   "outputs": [],
   "source": []
  },
  {
   "cell_type": "code",
   "execution_count": null,
   "metadata": {},
   "outputs": [],
   "source": []
  },
  {
   "cell_type": "code",
   "execution_count": 39,
   "metadata": {},
   "outputs": [],
   "source": [
    "data = Variable(torch.Tensor([[1],[2],[3],[4],[5],[6],[7],[8]]))"
   ]
  },
  {
   "cell_type": "code",
   "execution_count": 40,
   "metadata": {},
   "outputs": [
    {
     "data": {
      "text/plain": [
       "Variable containing:\n",
       "    1\n",
       "    2\n",
       "    3\n",
       "    4\n",
       "    5\n",
       "    6\n",
       "    7\n",
       "    8\n",
       "[torch.FloatTensor of size 8x1]"
      ]
     },
     "execution_count": 40,
     "metadata": {},
     "output_type": "execute_result"
    }
   ],
   "source": [
    "data"
   ]
  },
  {
   "cell_type": "code",
   "execution_count": 44,
   "metadata": {},
   "outputs": [
    {
     "data": {
      "text/plain": [
       "torch.Size([8, 1])"
      ]
     },
     "execution_count": 44,
     "metadata": {},
     "output_type": "execute_result"
    }
   ],
   "source": [
    "data.shape"
   ]
  },
  {
   "cell_type": "code",
   "execution_count": 70,
   "metadata": {},
   "outputs": [],
   "source": [
    "# MAP\n",
    "# def model():\n",
    "#     mu = pyro.sample(\"mu\", dist.normal, Variable(torch.zeros(1)), Variable(torch.ones(1)))\n",
    "#     return pyro.sample(\"x\", dist.normal, mu, Variable(torch.ones(1)))\n",
    "\n",
    "# def guide():\n",
    "#     mu_param = pyro.param(\"mu_param\", Variable(torch.randn(1), requires_grad=True))\n",
    "#     return pyro.sample(\"mu\", dist.delta, mu_param)\n",
    "\n",
    "# maximum likelihood\n",
    "def model():\n",
    "    mu = pyro.param(\"mu\", Variable(torch.randn(1), requires_grad=True))\n",
    "    return pyro.sample(\"x\", dist.normal, mu, Variable(torch.ones(1)))\n",
    "\n",
    "def guide():\n",
    "    return None\n",
    "\n",
    "# use pyro.condition to constrain model sample site \"x\" to be equal to some fixed observed data\n",
    "# conditioned_model = pyro.condition(model, data={\"x\": data})\n",
    "\n",
    "# svi = pyro.infer.SVI(model=conditioned_model,\n",
    "#                      guide=guide,\n",
    "#                      optim=pyro.optim.SGD({\"lr\": 0.001}),\n",
    "#                      loss=\"ELBO\")\n",
    "\n",
    "# losses = []\n",
    "# for t in range(1000):\n",
    "#     # svi.step is called with whatever arguments model and guide take - in this case, nothing\n",
    "#     losses.append(svi.step())\n",
    "\n",
    "# # to get the value of mu, just call guide\n",
    "# mu_final = guide()"
   ]
  },
  {
   "cell_type": "code",
   "execution_count": 71,
   "metadata": {},
   "outputs": [],
   "source": [
    "mu_final"
   ]
  },
  {
   "cell_type": "code",
   "execution_count": 72,
   "metadata": {},
   "outputs": [
    {
     "data": {
      "text/plain": [
       "Variable containing:\n",
       " 5.2739\n",
       "[torch.FloatTensor of size 1]"
      ]
     },
     "execution_count": 72,
     "metadata": {},
     "output_type": "execute_result"
    }
   ],
   "source": [
    "model()"
   ]
  },
  {
   "cell_type": "code",
   "execution_count": null,
   "metadata": {},
   "outputs": [],
   "source": []
  }
 ],
 "metadata": {
  "kernelspec": {
   "display_name": "Python 3",
   "language": "python",
   "name": "python3"
  },
  "language_info": {
   "codemirror_mode": {
    "name": "ipython",
    "version": 3
   },
   "file_extension": ".py",
   "mimetype": "text/x-python",
   "name": "python",
   "nbconvert_exporter": "python",
   "pygments_lexer": "ipython3",
   "version": "3.6.2"
  }
 },
 "nbformat": 4,
 "nbformat_minor": 2
}
